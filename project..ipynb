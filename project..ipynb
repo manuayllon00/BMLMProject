{
 "cells": [
  {
   "cell_type": "markdown",
   "metadata": {},
   "source": [
    "Basic Machine Learning Project\n",
    "\n",
    "Authors: Oscar Gamarra; Manuel Ayllon"
   ]
  },
  {
   "cell_type": "code",
   "execution_count": null,
   "metadata": {},
   "outputs": [],
   "source": [
    "# Write down importations and functions you need\n",
    "import csv"
   ]
  },
  {
   "cell_type": "code",
   "execution_count": 1,
   "metadata": {},
   "outputs": [],
   "source": [
    "# Load the data:\n",
    "df_train = open('train_2024.csv')\n",
    "df_test = open('test_2024.csv')"
   ]
  },
  {
   "cell_type": "markdown",
   "metadata": {},
   "source": [
    "**EXERCISE 1**\n",
    "\n",
    "Do some exploratory data analysis. Don’t just look globally, also look at (some of) these metrics by class. There might be differences, after all:  \n",
    "- How many missing data are there?  \n",
    "- Are there other strange values in the data?  \n",
    "- What is the proportion of classes in your data?  \n",
    "- How many genes (features) have entirely equal measured expression values as other genes (i.e. are there duplicate columns in the data)?  \n",
    "- What is the maximum value in the data, and the minimum?  \n",
    "- Which feature has the highest variance?  \n",
    "- Finally, make a boxplot of the expression values of the 30 features with the highest \n",
    "variance in the dataset, ordered by this variance."
   ]
  },
  {
   "cell_type": "markdown",
   "metadata": {},
   "source": []
  }
 ],
 "metadata": {
  "kernelspec": {
   "display_name": "Python 3",
   "language": "python",
   "name": "python3"
  },
  "language_info": {
   "codemirror_mode": {
    "name": "ipython",
    "version": 3
   },
   "file_extension": ".py",
   "mimetype": "text/x-python",
   "name": "python",
   "nbconvert_exporter": "python",
   "pygments_lexer": "ipython3",
   "version": "3.11.2"
  }
 },
 "nbformat": 4,
 "nbformat_minor": 2
}
